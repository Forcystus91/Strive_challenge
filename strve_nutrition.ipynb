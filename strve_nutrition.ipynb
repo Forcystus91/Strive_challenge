{
 "cells": [
  {
   "cell_type": "code",
   "execution_count": 1,
   "metadata": {},
   "outputs": [],
   "source": [
    "import pandas as pd\n",
    "import matplotlib.pyplot as plt\n",
    "import numpy as np"
   ]
  },
  {
   "cell_type": "code",
   "execution_count": 2,
   "metadata": {},
   "outputs": [
    {
     "data": {
      "text/html": [
       "<div>\n",
       "<style scoped>\n",
       "    .dataframe tbody tr th:only-of-type {\n",
       "        vertical-align: middle;\n",
       "    }\n",
       "\n",
       "    .dataframe tbody tr th {\n",
       "        vertical-align: top;\n",
       "    }\n",
       "\n",
       "    .dataframe thead th {\n",
       "        text-align: right;\n",
       "    }\n",
       "</style>\n",
       "<table border=\"1\" class=\"dataframe\">\n",
       "  <thead>\n",
       "    <tr style=\"text-align: right;\">\n",
       "      <th></th>\n",
       "      <th>Gender</th>\n",
       "      <th>Height</th>\n",
       "      <th>Weight</th>\n",
       "      <th>Index</th>\n",
       "    </tr>\n",
       "  </thead>\n",
       "  <tbody>\n",
       "    <tr>\n",
       "      <th>0</th>\n",
       "      <td>Male</td>\n",
       "      <td>174</td>\n",
       "      <td>96</td>\n",
       "      <td>4</td>\n",
       "    </tr>\n",
       "    <tr>\n",
       "      <th>1</th>\n",
       "      <td>Male</td>\n",
       "      <td>189</td>\n",
       "      <td>87</td>\n",
       "      <td>2</td>\n",
       "    </tr>\n",
       "    <tr>\n",
       "      <th>2</th>\n",
       "      <td>Female</td>\n",
       "      <td>185</td>\n",
       "      <td>110</td>\n",
       "      <td>4</td>\n",
       "    </tr>\n",
       "    <tr>\n",
       "      <th>3</th>\n",
       "      <td>Female</td>\n",
       "      <td>195</td>\n",
       "      <td>104</td>\n",
       "      <td>3</td>\n",
       "    </tr>\n",
       "    <tr>\n",
       "      <th>4</th>\n",
       "      <td>Male</td>\n",
       "      <td>149</td>\n",
       "      <td>61</td>\n",
       "      <td>3</td>\n",
       "    </tr>\n",
       "  </tbody>\n",
       "</table>\n",
       "</div>"
      ],
      "text/plain": [
       "   Gender  Height  Weight  Index\n",
       "0    Male     174      96      4\n",
       "1    Male     189      87      2\n",
       "2  Female     185     110      4\n",
       "3  Female     195     104      3\n",
       "4    Male     149      61      3"
      ]
     },
     "execution_count": 2,
     "metadata": {},
     "output_type": "execute_result"
    }
   ],
   "source": [
    "data = pd.read_csv('data.csv')\n",
    "data.head()"
   ]
  },
  {
   "cell_type": "code",
   "execution_count": 19,
   "metadata": {},
   "outputs": [
    {
     "data": {
      "text/html": [
       "<div>\n",
       "<style scoped>\n",
       "    .dataframe tbody tr th:only-of-type {\n",
       "        vertical-align: middle;\n",
       "    }\n",
       "\n",
       "    .dataframe tbody tr th {\n",
       "        vertical-align: top;\n",
       "    }\n",
       "\n",
       "    .dataframe thead th {\n",
       "        text-align: right;\n",
       "    }\n",
       "</style>\n",
       "<table border=\"1\" class=\"dataframe\">\n",
       "  <thead>\n",
       "    <tr style=\"text-align: right;\">\n",
       "      <th></th>\n",
       "      <th>Gender</th>\n",
       "      <th>Height</th>\n",
       "      <th>Weight</th>\n",
       "      <th>Index</th>\n",
       "      <th>BMI</th>\n",
       "      <th>Weight Status</th>\n",
       "    </tr>\n",
       "  </thead>\n",
       "  <tbody>\n",
       "    <tr>\n",
       "      <th>0</th>\n",
       "      <td>Male</td>\n",
       "      <td>174</td>\n",
       "      <td>96</td>\n",
       "      <td>4</td>\n",
       "      <td>31.7</td>\n",
       "      <td>Obese</td>\n",
       "    </tr>\n",
       "    <tr>\n",
       "      <th>1</th>\n",
       "      <td>Male</td>\n",
       "      <td>189</td>\n",
       "      <td>87</td>\n",
       "      <td>2</td>\n",
       "      <td>24.4</td>\n",
       "      <td>Healthy</td>\n",
       "    </tr>\n",
       "    <tr>\n",
       "      <th>2</th>\n",
       "      <td>Female</td>\n",
       "      <td>185</td>\n",
       "      <td>110</td>\n",
       "      <td>4</td>\n",
       "      <td>32.1</td>\n",
       "      <td>Obese</td>\n",
       "    </tr>\n",
       "    <tr>\n",
       "      <th>3</th>\n",
       "      <td>Female</td>\n",
       "      <td>195</td>\n",
       "      <td>104</td>\n",
       "      <td>3</td>\n",
       "      <td>27.4</td>\n",
       "      <td>Overweight</td>\n",
       "    </tr>\n",
       "    <tr>\n",
       "      <th>4</th>\n",
       "      <td>Male</td>\n",
       "      <td>149</td>\n",
       "      <td>61</td>\n",
       "      <td>3</td>\n",
       "      <td>27.5</td>\n",
       "      <td>Overweight</td>\n",
       "    </tr>\n",
       "  </tbody>\n",
       "</table>\n",
       "</div>"
      ],
      "text/plain": [
       "   Gender  Height  Weight  Index   BMI Weight Status\n",
       "0    Male     174      96      4  31.7         Obese\n",
       "1    Male     189      87      2  24.4       Healthy\n",
       "2  Female     185     110      4  32.1         Obese\n",
       "3  Female     195     104      3  27.4    Overweight\n",
       "4    Male     149      61      3  27.5    Overweight"
      ]
     },
     "execution_count": 19,
     "metadata": {},
     "output_type": "execute_result"
    }
   ],
   "source": [
    "def bmi(weight,height):\n",
    "    return round((weight/(height**2)*10000),1)\n",
    "\n",
    "data['BMI'] = bmi(data['Weight'],data['Height'])\n",
    "weight_status = []\n",
    "for bmi in data['BMI']:\n",
    "    if bmi < 18.5:\n",
    "            weight_status.append('Underweight')\n",
    "    elif 18.5<=bmi<=24.9:\n",
    "        weight_status.append('Healthy')\n",
    "    elif 25.0<=bmi<=29.9:\n",
    "        weight_status.append('Overweight')\n",
    "    else:\n",
    "        weight_status.append('Obese')\n",
    "\n",
    "# bmi = weight/h^2\n",
    "# weight = (bmi *h^2)/10000\n",
    "\n",
    "def target_weight(height):\n",
    "    target_bmi = 21.7\n",
    "    target_weight = (target_bmi*(height**2))/10000 #\n",
    "    return round(target_weight,1)\n",
    "data['Weight Status'] = weight_status\n",
    "data.head()"
   ]
  },
  {
   "cell_type": "code",
   "execution_count": 22,
   "metadata": {},
   "outputs": [
    {
     "data": {
      "text/html": [
       "<div>\n",
       "<style scoped>\n",
       "    .dataframe tbody tr th:only-of-type {\n",
       "        vertical-align: middle;\n",
       "    }\n",
       "\n",
       "    .dataframe tbody tr th {\n",
       "        vertical-align: top;\n",
       "    }\n",
       "\n",
       "    .dataframe thead th {\n",
       "        text-align: right;\n",
       "    }\n",
       "</style>\n",
       "<table border=\"1\" class=\"dataframe\">\n",
       "  <thead>\n",
       "    <tr style=\"text-align: right;\">\n",
       "      <th></th>\n",
       "      <th>Gender</th>\n",
       "      <th>Height</th>\n",
       "      <th>Weight</th>\n",
       "      <th>Index</th>\n",
       "      <th>BMI</th>\n",
       "      <th>Weight Status</th>\n",
       "      <th>Target Weight</th>\n",
       "    </tr>\n",
       "  </thead>\n",
       "  <tbody>\n",
       "    <tr>\n",
       "      <th>0</th>\n",
       "      <td>Male</td>\n",
       "      <td>174</td>\n",
       "      <td>96</td>\n",
       "      <td>4</td>\n",
       "      <td>31.7</td>\n",
       "      <td>Obese</td>\n",
       "      <td>65.7</td>\n",
       "    </tr>\n",
       "    <tr>\n",
       "      <th>1</th>\n",
       "      <td>Male</td>\n",
       "      <td>189</td>\n",
       "      <td>87</td>\n",
       "      <td>2</td>\n",
       "      <td>24.4</td>\n",
       "      <td>Healthy</td>\n",
       "      <td>77.5</td>\n",
       "    </tr>\n",
       "    <tr>\n",
       "      <th>2</th>\n",
       "      <td>Female</td>\n",
       "      <td>185</td>\n",
       "      <td>110</td>\n",
       "      <td>4</td>\n",
       "      <td>32.1</td>\n",
       "      <td>Obese</td>\n",
       "      <td>74.3</td>\n",
       "    </tr>\n",
       "    <tr>\n",
       "      <th>3</th>\n",
       "      <td>Female</td>\n",
       "      <td>195</td>\n",
       "      <td>104</td>\n",
       "      <td>3</td>\n",
       "      <td>27.4</td>\n",
       "      <td>Overweight</td>\n",
       "      <td>82.5</td>\n",
       "    </tr>\n",
       "    <tr>\n",
       "      <th>4</th>\n",
       "      <td>Male</td>\n",
       "      <td>149</td>\n",
       "      <td>61</td>\n",
       "      <td>3</td>\n",
       "      <td>27.5</td>\n",
       "      <td>Overweight</td>\n",
       "      <td>48.2</td>\n",
       "    </tr>\n",
       "  </tbody>\n",
       "</table>\n",
       "</div>"
      ],
      "text/plain": [
       "   Gender  Height  Weight  Index   BMI Weight Status  Target Weight\n",
       "0    Male     174      96      4  31.7         Obese           65.7\n",
       "1    Male     189      87      2  24.4       Healthy           77.5\n",
       "2  Female     185     110      4  32.1         Obese           74.3\n",
       "3  Female     195     104      3  27.4    Overweight           82.5\n",
       "4    Male     149      61      3  27.5    Overweight           48.2"
      ]
     },
     "execution_count": 22,
     "metadata": {},
     "output_type": "execute_result"
    }
   ],
   "source": [
    "data['Target Weight'] = target_weight(data['Height'])\n",
    "data.head()"
   ]
  },
  {
   "cell_type": "code",
   "execution_count": 4,
   "metadata": {},
   "outputs": [
    {
     "name": "stdout",
     "output_type": "stream",
     "text": [
      "31.708283789139916\n",
      "21.7\n"
     ]
    },
    {
     "data": {
      "text/plain": [
       "161.7"
      ]
     },
     "execution_count": 4,
     "metadata": {},
     "output_type": "execute_result"
    }
   ],
   "source": [
    "def target_weight(height,weight):\n",
    "    current_bmi = (weight/(height**2) *10000)\n",
    "    print(current_bmi)\n",
    "    target_bmi = 18.5 + (24.9-18.5)/2\n",
    "    print(target_bmi)\n",
    "    if current_bmi <= 18.5:\n",
    "        target = weight - target_bmi*height**2/10000\n",
    "    else:\n",
    "        target = weight + target_bmi*height**2/10000\n",
    "    return round(target,1)\n",
    "\n",
    "target_weight(174,96)"
   ]
  },
  {
   "cell_type": "code",
   "execution_count": 5,
   "metadata": {},
   "outputs": [
    {
     "ename": "TypeError",
     "evalue": "bar() missing 1 required positional argument: 'height'",
     "output_type": "error",
     "traceback": [
      "\u001b[1;31m---------------------------------------------------------------------------\u001b[0m",
      "\u001b[1;31mTypeError\u001b[0m                                 Traceback (most recent call last)",
      "\u001b[1;32m~\\AppData\\Local\\Temp/ipykernel_21532/1553772818.py\u001b[0m in \u001b[0;36m<module>\u001b[1;34m\u001b[0m\n\u001b[1;32m----> 1\u001b[1;33m \u001b[0mplt\u001b[0m\u001b[1;33m.\u001b[0m\u001b[0mbar\u001b[0m\u001b[1;33m(\u001b[0m\u001b[0mdata\u001b[0m\u001b[1;33m[\u001b[0m\u001b[1;34m'Weight'\u001b[0m\u001b[1;33m]\u001b[0m\u001b[1;33m,\u001b[0m\u001b[1;33m)\u001b[0m\u001b[1;33m\u001b[0m\u001b[1;33m\u001b[0m\u001b[0m\n\u001b[0m",
      "\u001b[1;31mTypeError\u001b[0m: bar() missing 1 required positional argument: 'height'"
     ]
    }
   ],
   "source": [
    "plt.bar(data['Weight'],)"
   ]
  },
  {
   "cell_type": "code",
   "execution_count": null,
   "metadata": {},
   "outputs": [
    {
     "data": {
      "text/html": [
       "<div>\n",
       "<style scoped>\n",
       "    .dataframe tbody tr th:only-of-type {\n",
       "        vertical-align: middle;\n",
       "    }\n",
       "\n",
       "    .dataframe tbody tr th {\n",
       "        vertical-align: top;\n",
       "    }\n",
       "\n",
       "    .dataframe thead th {\n",
       "        text-align: right;\n",
       "    }\n",
       "</style>\n",
       "<table border=\"1\" class=\"dataframe\">\n",
       "  <thead>\n",
       "    <tr style=\"text-align: right;\">\n",
       "      <th></th>\n",
       "      <th>Gender</th>\n",
       "      <th>Height</th>\n",
       "      <th>Weight</th>\n",
       "      <th>Index</th>\n",
       "      <th>BMI</th>\n",
       "      <th>Weight Status</th>\n",
       "    </tr>\n",
       "  </thead>\n",
       "  <tbody>\n",
       "    <tr>\n",
       "      <th>0</th>\n",
       "      <td>Male</td>\n",
       "      <td>174</td>\n",
       "      <td>96</td>\n",
       "      <td>4</td>\n",
       "      <td>31.7</td>\n",
       "      <td>Obese</td>\n",
       "    </tr>\n",
       "    <tr>\n",
       "      <th>1</th>\n",
       "      <td>Male</td>\n",
       "      <td>189</td>\n",
       "      <td>87</td>\n",
       "      <td>2</td>\n",
       "      <td>24.4</td>\n",
       "      <td>Healthy</td>\n",
       "    </tr>\n",
       "    <tr>\n",
       "      <th>4</th>\n",
       "      <td>Male</td>\n",
       "      <td>149</td>\n",
       "      <td>61</td>\n",
       "      <td>3</td>\n",
       "      <td>27.5</td>\n",
       "      <td>Overweight</td>\n",
       "    </tr>\n",
       "    <tr>\n",
       "      <th>5</th>\n",
       "      <td>Male</td>\n",
       "      <td>189</td>\n",
       "      <td>104</td>\n",
       "      <td>3</td>\n",
       "      <td>29.1</td>\n",
       "      <td>Overweight</td>\n",
       "    </tr>\n",
       "    <tr>\n",
       "      <th>6</th>\n",
       "      <td>Male</td>\n",
       "      <td>147</td>\n",
       "      <td>92</td>\n",
       "      <td>5</td>\n",
       "      <td>42.6</td>\n",
       "      <td>Obese</td>\n",
       "    </tr>\n",
       "    <tr>\n",
       "      <th>...</th>\n",
       "      <td>...</td>\n",
       "      <td>...</td>\n",
       "      <td>...</td>\n",
       "      <td>...</td>\n",
       "      <td>...</td>\n",
       "      <td>...</td>\n",
       "    </tr>\n",
       "    <tr>\n",
       "      <th>487</th>\n",
       "      <td>Male</td>\n",
       "      <td>187</td>\n",
       "      <td>80</td>\n",
       "      <td>2</td>\n",
       "      <td>22.9</td>\n",
       "      <td>Healthy</td>\n",
       "    </tr>\n",
       "    <tr>\n",
       "      <th>488</th>\n",
       "      <td>Male</td>\n",
       "      <td>198</td>\n",
       "      <td>136</td>\n",
       "      <td>4</td>\n",
       "      <td>34.7</td>\n",
       "      <td>Obese</td>\n",
       "    </tr>\n",
       "    <tr>\n",
       "      <th>494</th>\n",
       "      <td>Male</td>\n",
       "      <td>152</td>\n",
       "      <td>98</td>\n",
       "      <td>5</td>\n",
       "      <td>42.4</td>\n",
       "      <td>Obese</td>\n",
       "    </tr>\n",
       "    <tr>\n",
       "      <th>498</th>\n",
       "      <td>Male</td>\n",
       "      <td>150</td>\n",
       "      <td>95</td>\n",
       "      <td>5</td>\n",
       "      <td>42.2</td>\n",
       "      <td>Obese</td>\n",
       "    </tr>\n",
       "    <tr>\n",
       "      <th>499</th>\n",
       "      <td>Male</td>\n",
       "      <td>173</td>\n",
       "      <td>131</td>\n",
       "      <td>5</td>\n",
       "      <td>43.8</td>\n",
       "      <td>Obese</td>\n",
       "    </tr>\n",
       "  </tbody>\n",
       "</table>\n",
       "<p>245 rows × 6 columns</p>\n",
       "</div>"
      ],
      "text/plain": [
       "    Gender  Height  Weight  Index   BMI Weight Status\n",
       "0     Male     174      96      4  31.7         Obese\n",
       "1     Male     189      87      2  24.4       Healthy\n",
       "4     Male     149      61      3  27.5    Overweight\n",
       "5     Male     189     104      3  29.1    Overweight\n",
       "6     Male     147      92      5  42.6         Obese\n",
       "..     ...     ...     ...    ...   ...           ...\n",
       "487   Male     187      80      2  22.9       Healthy\n",
       "488   Male     198     136      4  34.7         Obese\n",
       "494   Male     152      98      5  42.4         Obese\n",
       "498   Male     150      95      5  42.2         Obese\n",
       "499   Male     173     131      5  43.8         Obese\n",
       "\n",
       "[245 rows x 6 columns]"
      ]
     },
     "execution_count": 99,
     "metadata": {},
     "output_type": "execute_result"
    }
   ],
   "source": [
    "data_male = data.loc[data['Gender']=='Male']\n",
    "data_female = data.loc[data['Gender']=='Female']\n",
    "data_male"
   ]
  },
  {
   "cell_type": "code",
   "execution_count": null,
   "metadata": {},
   "outputs": [
    {
     "ename": "TypeError",
     "evalue": "first() missing 1 required positional argument: 'offset'",
     "output_type": "error",
     "traceback": [
      "\u001b[1;31m---------------------------------------------------------------------------\u001b[0m",
      "\u001b[1;31mTypeError\u001b[0m                                 Traceback (most recent call last)",
      "\u001b[1;32m~\\AppData\\Local\\Temp/ipykernel_25020/1152738266.py\u001b[0m in \u001b[0;36m<module>\u001b[1;34m\u001b[0m\n\u001b[0;32m      1\u001b[0m \u001b[0mweight_group\u001b[0m \u001b[1;33m=\u001b[0m \u001b[0mdata\u001b[0m\u001b[1;33m.\u001b[0m\u001b[0mgroupby\u001b[0m\u001b[1;33m(\u001b[0m\u001b[1;33m[\u001b[0m\u001b[1;34m'Gender'\u001b[0m\u001b[1;33m,\u001b[0m\u001b[1;34m'Weight Status'\u001b[0m\u001b[1;33m]\u001b[0m\u001b[1;33m)\u001b[0m\u001b[1;33m.\u001b[0m\u001b[0msize\u001b[0m\u001b[1;33m(\u001b[0m\u001b[1;33m)\u001b[0m\u001b[1;33m\u001b[0m\u001b[1;33m\u001b[0m\u001b[0m\n\u001b[1;32m----> 2\u001b[1;33m \u001b[0mweight_group\u001b[0m\u001b[1;33m.\u001b[0m\u001b[0mfirst\u001b[0m\u001b[1;33m(\u001b[0m\u001b[1;33m)\u001b[0m\u001b[1;33m\u001b[0m\u001b[1;33m\u001b[0m\u001b[0m\n\u001b[0m",
      "\u001b[1;31mTypeError\u001b[0m: first() missing 1 required positional argument: 'offset'"
     ]
    }
   ],
   "source": [
    "weight_group = data.groupby(['Gender','Weight Status']).size()\n",
    "weight_group.first()"
   ]
  },
  {
   "cell_type": "code",
   "execution_count": null,
   "metadata": {},
   "outputs": [
    {
     "name": "stdout",
     "output_type": "stream",
     "text": [
      "332 64 34 70\n"
     ]
    }
   ],
   "source": [
    "labels = ['Obese','Overweight','Healthy','Underweight']\n",
    "obese = data.loc[(data['Weight Status'].isin(['Obese']))]\n",
    "healthy = data.loc[(data['Weight Status'].isin(['Healthy']))]\n",
    "overweight = data.loc[(data['Weight Status'].isin(['Overweight']))]\n",
    "underweight = data.loc[(data['Weight Status'].isin(['Underweight']))]\n",
    "print(len(obese['Gender']),\n",
    "    len(healthy['Gender']),\n",
    "    len(underweight['Gender']),\n",
    "    len(overweight['Gender'])\n",
    ")"
   ]
  },
  {
   "cell_type": "code",
   "execution_count": null,
   "metadata": {},
   "outputs": [
    {
     "name": "stdout",
     "output_type": "stream",
     "text": [
      "The max height is 199\n",
      "The max height for males is 199 and for females is 199\n",
      " The max weight is 160\n",
      " The max weight for males is 160 and for females is 160\n"
     ]
    }
   ],
   "source": [
    "# maximum and minimums\n",
    "max_height = np.max(data['Height'])\n",
    "max_height_m = np.max(data_male['Height'])\n",
    "max_height_f = np.max(data_female['Height'])\n",
    "max_weight = np.max(data['Weight'])\n",
    "max_weight_m = np.max(data_male['Weight'])\n",
    "max_weight_f = np.max(data_female['Weight'])\n",
    "print(f\"The max height is {max_height}\\nThe max height for males is {max_height_m} and for females is {max_height_f}\\n The max weight is {max_weight}\\n The max weight for males is {max_weight_m} and for females is {max_weight_f}\")"
   ]
  },
  {
   "cell_type": "code",
   "execution_count": null,
   "metadata": {},
   "outputs": [
    {
     "name": "stdout",
     "output_type": "stream",
     "text": [
      "Mean weight: 106.0\n",
      "Mean weight in males: 106.31428571428572\n",
      "Mean weight in females: 105.69803921568628\n"
     ]
    }
   ],
   "source": [
    "weight_mean = np.mean(data['Weight'])\n",
    "weight_mean_m = np.mean(data_male['Weight'])\n",
    "weight_mean_f = np.mean(data_female['Weight'])\n",
    "print(f\"Mean weight: {weight_mean}\\nMean weight in males: {weight_mean_m}\\nMean weight in females: {weight_mean_f}\")"
   ]
  },
  {
   "cell_type": "code",
   "execution_count": null,
   "metadata": {},
   "outputs": [
    {
     "name": "stdout",
     "output_type": "stream",
     "text": [
      "Mean height: 169.944\n",
      "Mean height in males: 169.64897959183673\n",
      "Mean height in females: 170.22745098039215\n"
     ]
    }
   ],
   "source": [
    "height_mean = np.mean(data['Height'])\n",
    "height_mean_m = np.mean(data_male['Height'])\n",
    "height_mean_f = np.mean(data_female['Height'])\n",
    "print(f\"Mean height: {height_mean}\\nMean height in males: {height_mean_m}\\nMean height in females: {height_mean_f}\")"
   ]
  },
  {
   "cell_type": "code",
   "execution_count": null,
   "metadata": {},
   "outputs": [],
   "source": [
    "def variation(array):\n",
    "    mean = array.sum()/len(array)\n",
    "    def summation(mean,array):\n",
    "        if array.size < 2:\n",
    "            return (array.sum()-mean)**2\n",
    "        else:\n",
    "            total_summation = summation(mean,array[0:-1]) + summation(mean,array[-1])\n",
    "            return total_summation\n",
    "    \n",
    "    return summation(mean,array)/len(array)\n",
    "\n",
    "def std(array):\n",
    "    std = np.sqrt(variation(array))\n",
    "    return std\n",
    "\n",
    "height = np.array(data['Height'])\n",
    "height_m = np.array(data_male['Height'])\n",
    "height_f = np.array(data_female['Height'])\n",
    "weight = np.array(data['Weight'])\n",
    "weight_m = np.array(data_male['Weight'])\n",
    "weight_f = np.array(data_female['Weight'])\n",
    "height_var = {'Height variation':variation(height),'Male height variation':variation(height_m),'Female height variation':variation(height_f)}\n",
    "weight_var = {'Weight variation':variation(weight),'Male weight variation':variation(weight_m),'Female weight variation':variation(weight_f)}"
   ]
  },
  {
   "cell_type": "code",
   "execution_count": null,
   "metadata": {},
   "outputs": [
    {
     "data": {
      "text/plain": [
       "{'Height variation': 267.6128640000003,\n",
       " 'Male height variation': 290.04821324448125,\n",
       " 'Female height variation': 245.89336409073428}"
      ]
     },
     "execution_count": 83,
     "metadata": {},
     "output_type": "execute_result"
    }
   ],
   "source": [
    "height_var"
   ]
  },
  {
   "cell_type": "code",
   "execution_count": null,
   "metadata": {},
   "outputs": [
    {
     "data": {
      "text/plain": [
       "{'Weight variation': 1046.536,\n",
       " 'Male weight variation': 1009.1869387755103,\n",
       " 'Female weight variation': 1082.2343098808155}"
      ]
     },
     "execution_count": 84,
     "metadata": {},
     "output_type": "execute_result"
    }
   ],
   "source": [
    "weight_var"
   ]
  },
  {
   "cell_type": "code",
   "execution_count": null,
   "metadata": {},
   "outputs": [],
   "source": [
    "height_std = {'Height std':std(height),'Male height std':std(height_m),'Female height std':std(height_f)}\n",
    "weight_std = {'Weight std':std(weight),'Male weight std':std(weight_m),'Female weight std':std(weight_f)}"
   ]
  },
  {
   "cell_type": "code",
   "execution_count": null,
   "metadata": {},
   "outputs": [
    {
     "data": {
      "text/plain": [
       "{'Height std': 16.35887722308595,\n",
       " 'Male height std': 17.03080189669533,\n",
       " 'Female height std': 15.680987344256556}"
      ]
     },
     "execution_count": 86,
     "metadata": {},
     "output_type": "execute_result"
    }
   ],
   "source": [
    "height_std"
   ]
  },
  {
   "cell_type": "code",
   "execution_count": null,
   "metadata": {},
   "outputs": [
    {
     "data": {
      "text/plain": [
       "{'Weight std': 32.350208654659404,\n",
       " 'Male weight std': 31.767702762011456,\n",
       " 'Female weight std': 32.89732982904259}"
      ]
     },
     "execution_count": 87,
     "metadata": {},
     "output_type": "execute_result"
    }
   ],
   "source": [
    "weight_std"
   ]
  },
  {
   "cell_type": "markdown",
   "metadata": {},
   "source": []
  },
  {
   "cell_type": "code",
   "execution_count": null,
   "metadata": {},
   "outputs": [
    {
     "data": {
      "image/png": "[encoded data removed]",
      "text/plain": [
       "<Figure size 1008x864 with 3 Axes>"
      ]
     },
     "metadata": {
      "needs_background": "light"
     },
     "output_type": "display_data"
    }
   ],
   "source": [
    "plt.figure(figsize=((14,12)))\n",
    "plt.subplot(3,1,1)\n",
    "plt.hist(height,bins=30,histtype='bar')\n",
    "plt.title('Height')\n",
    "plt.xlabel('Height of members')\n",
    "plt.ylabel('Frequency')\n",
    "\n",
    "plt.subplot(3,1,2)\n",
    "plt.hist(height_m,bins=30,histtype='bar')\n",
    "plt.xlabel('Height of males')\n",
    "plt.ylabel('Frequency')\n",
    "\n",
    "plt.subplot(3,1,3)\n",
    "plt.hist(height_f,bins=30,histtype='bar')\n",
    "plt.xlabel('Height of females')\n",
    "plt.ylabel('Frequency')\n",
    "\n",
    "plt.show()"
   ]
  },
  {
   "cell_type": "code",
   "execution_count": null,
   "metadata": {},
   "outputs": [],
   "source": [
    "def std_percentages(x, x_mean, x_std):\n",
    "\n",
    "    \"\"\" Computes the percentage of coverage at 1std, 2std and 3std from the\n",
    "    mean value of a certain variable x.\n",
    "    \n",
    "    Arguments\n",
    "    ---------\n",
    "    x      : array, data we want to compute on. \n",
    "    x_mean : float, mean value of x array.\n",
    "    x_std  : float, standard deviation of x array.\n",
    "    \n",
    "    Returns\n",
    "    -------\n",
    "    \n",
    "    per_std_1 : float, percentage of values within 1 standard deviation.\n",
    "    per_std_2 : float, percentage of values within 2 standard deviations.\n",
    "    per_std_3 : float, percentage of values within 3 standard deviations.    \n",
    "    \"\"\"\n",
    "    \n",
    "    std_1 = x_std\n",
    "    std_2 = 2 * x_std\n",
    "    std_3 = 3 * x_std\n",
    "    \n",
    "    elem_std_1 = np.logical_and((x_mean - std_1) < x, x < (x_mean + std_1)).sum()\n",
    "    per_std_1 = elem_std_1 * 100 / len(x) \n",
    "    \n",
    "    elem_std_2 = np.logical_and((x_mean - std_2) < x, x < (x_mean + std_2)).sum()\n",
    "    per_std_2 = elem_std_2 * 100 / len(x) \n",
    "    \n",
    "    elem_std_3 = np.logical_and((x_mean - std_3) < x, x < (x_mean + std_3)).sum()\n",
    "    per_std_3 = elem_std_3 * 100 / len(x) \n",
    "    \n",
    "    return per_std_1, per_std_2, per_std_3\n",
    "\n",
    "height_std1_per,height_std2_per,height_std3_per = std_percentages(height, height_mean, height_std['Height std'])\n",
    "male_height_std1_per,male_height_std2_per,male_height_std3_per = std_percentages(height_m, height_mean_m, height_std['Male height std'])\n",
    "female_height_std1_per,female_height_std2_per,female_height_std3_per = std_percentages(height_f, height_mean_f, height_std['Female height std'])"
   ]
  },
  {
   "cell_type": "code",
   "execution_count": null,
   "metadata": {},
   "outputs": [
    {
     "name": "stdout",
     "output_type": "stream",
     "text": [
      "The percentage of coverage at 1 std of the abv_mean is 59.6\n",
      "The percentage of coverage at 2 std of the abv_mean is 100.0\n",
      "The percentage of coverage at 3 std of the abv_mean is 100.0\n",
      "The percentage of coverage at 1 std of the abv_mean for males is 57.55102040816327\n",
      "The percentage of coverage at 2 std of the abv_mean for males is 100.0\n",
      "The percentage of coverage at 3 std of the abv_mean for males is 100.0\n",
      "The percentage of coverage at 1 std of the abv_mean for females is 58.8235294117647\n",
      "The percentage of coverage at 2 std of the abv_mean for females is 100.0\n",
      "The percentage of coverage at 3 std of the abv_mean for females is 100.0\n"
     ]
    }
   ],
   "source": [
    "print(f\"The percentage of coverage at 1 std of the abv_mean is {height_std1_per}\\nThe percentage of coverage at 2 std of the abv_mean is {height_std2_per}\\nThe percentage of coverage at 3 std of the abv_mean is {height_std3_per}\")\n",
    "print(f\"The percentage of coverage at 1 std of the abv_mean for males is {male_height_std1_per}\\nThe percentage of coverage at 2 std of the abv_mean for males is {male_height_std2_per}\\nThe percentage of coverage at 3 std of the abv_mean for males is {male_height_std3_per}\")\n",
    "print(f\"The percentage of coverage at 1 std of the abv_mean for females is {female_height_std1_per}\\nThe percentage of coverage at 2 std of the abv_mean for females is {female_height_std2_per}\\nThe percentage of coverage at 3 std of the abv_mean for females is {female_height_std3_per}\")"
   ]
  }
 ],
 "metadata": {
  "interpreter": {
   "hash": "e171acd309c06983148c9856e741c79a7072f11ec9d548c93ae4f1382cc847af"
  },
  "kernelspec": {
   "display_name": "Python 3.8.12 64-bit ('strive': conda)",
   "language": "python",
   "name": "python3"
  },
  "language_info": {
   "codemirror_mode": {
    "name": "ipython",
    "version": 3
   },
   "file_extension": ".py",
   "mimetype": "text/x-python",
   "name": "python",
   "nbconvert_exporter": "python",
   "pygments_lexer": "ipython3",
   "version": "3.8.12"
  },
  "orig_nbformat": 4
 },
 "nbformat": 4,
 "nbformat_minor": 2
}
